{
 "cells": [
  {
   "cell_type": "code",
   "execution_count": 27,
   "metadata": {},
   "outputs": [
    {
     "name": "stderr",
     "output_type": "stream",
     "text": [
      "Global seed set to 442\n"
     ]
    },
    {
     "name": "stdout",
     "output_type": "stream",
     "text": [
      "ISICdataNewAndLovely/jpeg/train/train\n",
      "0\n",
      "400\n",
      "ISICdataNewAndLovely/jpeg/train/rest_of_trainset\n",
      "0\n",
      "400\n",
      "800\n",
      "1200\n",
      "1600\n",
      "2000\n",
      "2400\n",
      "2800\n",
      "3200\n",
      "3600\n",
      "4000\n",
      "4400\n",
      "4800\n",
      "5200\n",
      "5600\n",
      "6000\n",
      "6400\n",
      "6800\n",
      "7200\n",
      "7600\n",
      "8000\n",
      "8400\n",
      "8800\n",
      "9200\n",
      "9600\n",
      "10000\n",
      "10400\n",
      "10800\n",
      "11200\n",
      "11600\n",
      "12000\n",
      "12400\n",
      "12800\n",
      "13200\n",
      "13600\n",
      "14000\n",
      "14400\n",
      "14800\n",
      "15200\n",
      "15600\n",
      "16000\n",
      "16400\n",
      "16800\n",
      "17200\n",
      "17600\n",
      "18000\n",
      "18400\n",
      "18800\n",
      "19200\n",
      "19600\n",
      "20000\n",
      "20400\n",
      "20800\n",
      "21200\n",
      "21600\n",
      "22000\n",
      "22400\n",
      "22800\n",
      "23200\n",
      "23600\n",
      "24000\n",
      "24400\n",
      "24800\n",
      "25200\n",
      "25600\n",
      "26000\n",
      "26400\n",
      "26800\n",
      "27200\n",
      "27600\n",
      "28000\n",
      "28400\n",
      "ISICdataNewAndLovely/jpeg/train/val\n",
      "0\n",
      "400\n",
      "mean and std: \n",
      " tensor([0.8306, 0.6337, 0.5970]) tensor([0.1541, 0.1970, 0.2245])\n"
     ]
    }
   ],
   "source": [
    "import torch\n",
    "import os\n",
    "from torch.utils.data import DataLoader\n",
    "from torchvision.datasets import ImageFolder\n",
    "from pytorch_lightning import seed_everything\n",
    "batch_size = 4\n",
    "seed_everything(442)\n",
    "from torchvision import transforms\n",
    "transformsapp = transforms.Compose([transforms.Resize(256),\n",
    "        transforms.CenterCrop(224), transforms.ToTensor()])\n",
    "\n",
    "data_dir = 'ISICdataNewAndLovely/jpeg/train/'\n",
    "foldernames = ['train','rest_of_trainset','val']\n",
    "\n",
    "def batch_mean_and_sd(loader,fst_moment,snd_moment, cnt):\n",
    "    runcounter = 0\n",
    "    for images, _ in loader:\n",
    "        if runcounter %100==0: print(runcounter*batch_size)\n",
    "        b, c, h, w = images.shape\n",
    "        nb_pixels = b * h * w\n",
    "        sum_ = torch.sum(images, dim=[0, 2, 3])\n",
    "        sum_of_square = torch.sum(images ** 2,\n",
    "                                dim=[0, 2, 3])\n",
    "        fst_moment = (cnt * fst_moment + sum_) / (cnt + nb_pixels)\n",
    "        snd_moment = (cnt * snd_moment + sum_of_square) / (cnt + nb_pixels)\n",
    "        cnt += nb_pixels\n",
    "        runcounter +=1 \n",
    "    return (fst_moment, snd_moment, cnt)\n",
    "\n",
    "cnt = 0\n",
    "fst_moment = torch.empty(3)\n",
    "snd_moment = torch.empty(3)\n",
    "\n",
    "for foldername in foldernames:\n",
    "    print(os.path.join(data_dir, foldername))\n",
    "    dataset = ImageFolder(root = os.path.join(data_dir, foldername), transform=transformsapp)\n",
    "\n",
    "    loader = DataLoader(\n",
    "    dataset, \n",
    "    batch_size = batch_size, \n",
    "    num_workers=8, pin_memory=True)\n",
    "    (fst_moment, snd_moment, cnt) = batch_mean_and_sd(loader, fst_moment, snd_moment, cnt)\n",
    "\n",
    "mean, std = fst_moment, torch.sqrt(snd_moment - fst_moment ** 2)        \n",
    "\n",
    "print(\"mean and std: \\n\", mean, std)\n",
    "#result: tensor([0.8306, 0.6337, 0.5970]) tensor([0.1541, 0.1970, 0.2245])"
   ]
  },
  {
   "cell_type": "code",
   "execution_count": 28,
   "metadata": {},
   "outputs": [
    {
     "data": {
      "text/plain": [
       "8"
      ]
     },
     "execution_count": 28,
     "metadata": {},
     "output_type": "execute_result"
    }
   ],
   "source": []
  }
 ],
 "metadata": {
  "kernelspec": {
   "display_name": "Python 3.9.13 ('base')",
   "language": "python",
   "name": "python3"
  },
  "language_info": {
   "codemirror_mode": {
    "name": "ipython",
    "version": 3
   },
   "file_extension": ".py",
   "mimetype": "text/x-python",
   "name": "python",
   "nbconvert_exporter": "python",
   "pygments_lexer": "ipython3",
   "version": "3.9.13"
  },
  "orig_nbformat": 4,
  "vscode": {
   "interpreter": {
    "hash": "5a0d37fd4d2d653b81c572b54896dbb094a437ebb9b49fa63d715035d1c97577"
   }
  }
 },
 "nbformat": 4,
 "nbformat_minor": 2
}
